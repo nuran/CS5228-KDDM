{
 "cells": [
  {
   "cell_type": "code",
   "outputs": [],
   "source": [
    "%load_ext autoreload\n",
    "%autoreload 2"
   ],
   "metadata": {
    "collapsed": false,
    "ExecuteTime": {
     "end_time": "2024-10-08T11:40:10.750234Z",
     "start_time": "2024-10-08T11:40:10.728604Z"
    }
   },
   "id": "5a956f72b54af122",
   "execution_count": 1
  },
  {
   "cell_type": "code",
   "outputs": [],
   "source": [
    "# Import libraries\n",
    "import pandas as pd"
   ],
   "metadata": {
    "collapsed": false,
    "ExecuteTime": {
     "end_time": "2024-10-08T11:41:02.876030Z",
     "start_time": "2024-10-08T11:41:02.728161Z"
    }
   },
   "id": "e38e6806a7953059",
   "execution_count": 2
  },
  {
   "cell_type": "code",
   "execution_count": 5,
   "id": "initial_id",
   "metadata": {
    "collapsed": true,
    "ExecuteTime": {
     "end_time": "2024-10-08T11:41:35.283391Z",
     "start_time": "2024-10-08T11:41:35.047074Z"
    }
   },
   "outputs": [],
   "source": [
    "# Load training and test datasets\n",
    "train_df = pd.read_csv('./data/train.csv')\n",
    "test_df = pd.read_csv('./data/test.csv')\n"
   ]
  },
  {
   "cell_type": "code",
   "outputs": [
    {
     "data": {
      "text/plain": "   listing_id                                              title  \\\n0     1292132  Land Rover Range Rover Velar 3.0A Si6 R-Dynami...   \n1     1294696   Mercedes-Benz C-Class C200 Sport Premium Sunroof   \n2     1311717              Honda Odyssey 2.4A (COE till 09/2027)   \n3     1310068       Toyota Corolla Altis 1.6A (COE till 12/2028)   \n4     1325280                     Lexus GS300 (COE till 06/2026)   \n\n            make    model                                        description  \\\n0     land rover    range  1 owner, no repairs needed! it looks great, in...   \n1  mercedes-benz     c200  rare beautiful white c200 sport premium sunroo...   \n2          honda  odyssey            comes with warranty. full service done.   \n3         toyota    altis                                                  0   \n4          lexus       gs  wear and tear done up. well maintained and reg...   \n\n   manufactured original_reg_date     reg_date  type_of_vehicle  \\\n0        2018.0               NaN  08-mar-2018              suv   \n1        2017.0               NaN  28-dec-2017     luxury sedan   \n2        2007.0               NaN  19-sep-2007              mpv   \n3        2008.0               NaN  15-dec-2008  mid-sized sedan   \n4        2006.0               NaN  22-dec-2006     luxury sedan   \n\n                                   category  ...   mileage      omv       arf  \\\n0                                  parf car  ...   96000.0  88906.0  132031.0   \n1                  parf car, premium ad car  ...   85680.0  40678.0   43950.0   \n2  coe car, premium ad car, low mileage car  ...  138000.0  27994.0   30794.0   \n3                   coe car, premium ad car  ...  160000.0  16084.0   16084.0   \n4                   coe car, premium ad car  ...  183000.0  50414.0   55456.0   \n\n  opc_scheme  lifespan   eco_category  \\\n0        NaN       NaN  uncategorized   \n1        NaN       NaN  uncategorized   \n2        NaN       NaN  uncategorized   \n3        NaN       NaN  uncategorized   \n4        NaN       NaN  uncategorized   \n\n                                            features  \\\n0  3l supercharged v6 p380 engine at 375bhp/450nm...   \n1  2.0l 4 cylinders inline turbocharged engine, p...   \n2  2.4l k24a 4 cylinders inline dohc i-vtec, 5 sp...   \n3  super fuel efficient 1.6l 16 valves dohc vvt-i...   \n4  powerful 3.0l v6 engine, 227bhp, 6 speed , key...   \n\n                                         accessories  indicative_price  \\\n0  2 x massage/memory/cooling & warmer seat, rear...               NaN   \n1  multi function steering, electric tailgate, re...               NaN   \n2  cruise control, touchscreen audio, reverse cam...               NaN   \n3  leather seats, pioneer dvd audio system with r...               NaN   \n4  premium upholstery electric seats. memory seat...               NaN   \n\n      price  \n0  193788.0  \n1   96800.0  \n2   39800.0  \n3   44800.0  \n4   25800.0  \n\n[5 rows x 30 columns]",
      "text/html": "<div>\n<style scoped>\n    .dataframe tbody tr th:only-of-type {\n        vertical-align: middle;\n    }\n\n    .dataframe tbody tr th {\n        vertical-align: top;\n    }\n\n    .dataframe thead th {\n        text-align: right;\n    }\n</style>\n<table border=\"1\" class=\"dataframe\">\n  <thead>\n    <tr style=\"text-align: right;\">\n      <th></th>\n      <th>listing_id</th>\n      <th>title</th>\n      <th>make</th>\n      <th>model</th>\n      <th>description</th>\n      <th>manufactured</th>\n      <th>original_reg_date</th>\n      <th>reg_date</th>\n      <th>type_of_vehicle</th>\n      <th>category</th>\n      <th>...</th>\n      <th>mileage</th>\n      <th>omv</th>\n      <th>arf</th>\n      <th>opc_scheme</th>\n      <th>lifespan</th>\n      <th>eco_category</th>\n      <th>features</th>\n      <th>accessories</th>\n      <th>indicative_price</th>\n      <th>price</th>\n    </tr>\n  </thead>\n  <tbody>\n    <tr>\n      <th>0</th>\n      <td>1292132</td>\n      <td>Land Rover Range Rover Velar 3.0A Si6 R-Dynami...</td>\n      <td>land rover</td>\n      <td>range</td>\n      <td>1 owner, no repairs needed! it looks great, in...</td>\n      <td>2018.0</td>\n      <td>NaN</td>\n      <td>08-mar-2018</td>\n      <td>suv</td>\n      <td>parf car</td>\n      <td>...</td>\n      <td>96000.0</td>\n      <td>88906.0</td>\n      <td>132031.0</td>\n      <td>NaN</td>\n      <td>NaN</td>\n      <td>uncategorized</td>\n      <td>3l supercharged v6 p380 engine at 375bhp/450nm...</td>\n      <td>2 x massage/memory/cooling &amp; warmer seat, rear...</td>\n      <td>NaN</td>\n      <td>193788.0</td>\n    </tr>\n    <tr>\n      <th>1</th>\n      <td>1294696</td>\n      <td>Mercedes-Benz C-Class C200 Sport Premium Sunroof</td>\n      <td>mercedes-benz</td>\n      <td>c200</td>\n      <td>rare beautiful white c200 sport premium sunroo...</td>\n      <td>2017.0</td>\n      <td>NaN</td>\n      <td>28-dec-2017</td>\n      <td>luxury sedan</td>\n      <td>parf car, premium ad car</td>\n      <td>...</td>\n      <td>85680.0</td>\n      <td>40678.0</td>\n      <td>43950.0</td>\n      <td>NaN</td>\n      <td>NaN</td>\n      <td>uncategorized</td>\n      <td>2.0l 4 cylinders inline turbocharged engine, p...</td>\n      <td>multi function steering, electric tailgate, re...</td>\n      <td>NaN</td>\n      <td>96800.0</td>\n    </tr>\n    <tr>\n      <th>2</th>\n      <td>1311717</td>\n      <td>Honda Odyssey 2.4A (COE till 09/2027)</td>\n      <td>honda</td>\n      <td>odyssey</td>\n      <td>comes with warranty. full service done.</td>\n      <td>2007.0</td>\n      <td>NaN</td>\n      <td>19-sep-2007</td>\n      <td>mpv</td>\n      <td>coe car, premium ad car, low mileage car</td>\n      <td>...</td>\n      <td>138000.0</td>\n      <td>27994.0</td>\n      <td>30794.0</td>\n      <td>NaN</td>\n      <td>NaN</td>\n      <td>uncategorized</td>\n      <td>2.4l k24a 4 cylinders inline dohc i-vtec, 5 sp...</td>\n      <td>cruise control, touchscreen audio, reverse cam...</td>\n      <td>NaN</td>\n      <td>39800.0</td>\n    </tr>\n    <tr>\n      <th>3</th>\n      <td>1310068</td>\n      <td>Toyota Corolla Altis 1.6A (COE till 12/2028)</td>\n      <td>toyota</td>\n      <td>altis</td>\n      <td>0</td>\n      <td>2008.0</td>\n      <td>NaN</td>\n      <td>15-dec-2008</td>\n      <td>mid-sized sedan</td>\n      <td>coe car, premium ad car</td>\n      <td>...</td>\n      <td>160000.0</td>\n      <td>16084.0</td>\n      <td>16084.0</td>\n      <td>NaN</td>\n      <td>NaN</td>\n      <td>uncategorized</td>\n      <td>super fuel efficient 1.6l 16 valves dohc vvt-i...</td>\n      <td>leather seats, pioneer dvd audio system with r...</td>\n      <td>NaN</td>\n      <td>44800.0</td>\n    </tr>\n    <tr>\n      <th>4</th>\n      <td>1325280</td>\n      <td>Lexus GS300 (COE till 06/2026)</td>\n      <td>lexus</td>\n      <td>gs</td>\n      <td>wear and tear done up. well maintained and reg...</td>\n      <td>2006.0</td>\n      <td>NaN</td>\n      <td>22-dec-2006</td>\n      <td>luxury sedan</td>\n      <td>coe car, premium ad car</td>\n      <td>...</td>\n      <td>183000.0</td>\n      <td>50414.0</td>\n      <td>55456.0</td>\n      <td>NaN</td>\n      <td>NaN</td>\n      <td>uncategorized</td>\n      <td>powerful 3.0l v6 engine, 227bhp, 6 speed , key...</td>\n      <td>premium upholstery electric seats. memory seat...</td>\n      <td>NaN</td>\n      <td>25800.0</td>\n    </tr>\n  </tbody>\n</table>\n<p>5 rows × 30 columns</p>\n</div>"
     },
     "execution_count": 6,
     "metadata": {},
     "output_type": "execute_result"
    }
   ],
   "source": [
    "# Display the first 5 rows of the training dataset\n",
    "train_df.head()"
   ],
   "metadata": {
    "collapsed": false,
    "ExecuteTime": {
     "end_time": "2024-10-08T11:41:46.887821Z",
     "start_time": "2024-10-08T11:41:46.852625Z"
    }
   },
   "id": "abd0912788fdbfba",
   "execution_count": 6
  },
  {
   "cell_type": "code",
   "outputs": [
    {
     "data": {
      "text/plain": "['listing_id',\n 'title',\n 'make',\n 'model',\n 'description',\n 'manufactured',\n 'original_reg_date',\n 'reg_date',\n 'type_of_vehicle',\n 'category',\n 'transmission',\n 'curb_weight',\n 'power',\n 'fuel_type',\n 'engine_cap',\n 'no_of_owners',\n 'depreciation',\n 'coe',\n 'road_tax',\n 'dereg_value',\n 'mileage',\n 'omv',\n 'arf',\n 'opc_scheme',\n 'lifespan',\n 'eco_category',\n 'features',\n 'accessories',\n 'indicative_price',\n 'price']"
     },
     "execution_count": 7,
     "metadata": {},
     "output_type": "execute_result"
    }
   ],
   "source": [
    "# # check the columns\n",
    "train_df.columns.tolist()"
   ],
   "metadata": {
    "collapsed": false,
    "ExecuteTime": {
     "end_time": "2024-10-08T11:42:39.755102Z",
     "start_time": "2024-10-08T11:42:39.721677Z"
    }
   },
   "id": "294d240a28899f51",
   "execution_count": 7
  },
  {
   "cell_type": "code",
   "outputs": [
    {
     "data": {
      "text/plain": "0"
     },
     "execution_count": 15,
     "metadata": {},
     "output_type": "execute_result"
    }
   ],
   "source": [
    "#Check the null value columns\n",
    "train_df['title'].isnull().sum()"
   ],
   "metadata": {
    "collapsed": false,
    "ExecuteTime": {
     "end_time": "2024-10-08T12:01:12.855695Z",
     "start_time": "2024-10-08T12:01:12.821333Z"
    }
   },
   "id": "cb45055dc8154846",
   "execution_count": 15
  },
  {
   "cell_type": "code",
   "outputs": [
    {
     "name": "stdout",
     "output_type": "stream",
     "text": [
      "<class 'pandas.core.frame.DataFrame'>\n",
      "RangeIndex: 25000 entries, 0 to 24999\n",
      "Data columns (total 30 columns):\n",
      " #   Column             Non-Null Count  Dtype  \n",
      "---  ------             --------------  -----  \n",
      " 0   listing_id         25000 non-null  int64  \n",
      " 1   title              25000 non-null  object \n",
      " 2   make               23684 non-null  object \n",
      " 3   model              25000 non-null  object \n",
      " 4   description        24320 non-null  object \n",
      " 5   manufactured       24993 non-null  float64\n",
      " 6   original_reg_date  255 non-null    object \n",
      " 7   reg_date           25000 non-null  object \n",
      " 8   type_of_vehicle    25000 non-null  object \n",
      " 9   category           25000 non-null  object \n",
      " 10  transmission       25000 non-null  object \n",
      " 11  curb_weight        24693 non-null  float64\n",
      " 12  power              22360 non-null  float64\n",
      " 13  fuel_type          5879 non-null   object \n",
      " 14  engine_cap         24404 non-null  float64\n",
      " 15  no_of_owners       24982 non-null  float64\n",
      " 16  depreciation       24493 non-null  float64\n",
      " 17  coe                25000 non-null  int64  \n",
      " 18  road_tax           22368 non-null  float64\n",
      " 19  dereg_value        24780 non-null  float64\n",
      " 20  mileage            19696 non-null  float64\n",
      " 21  omv                24936 non-null  float64\n",
      " 22  arf                24826 non-null  float64\n",
      " 23  opc_scheme         162 non-null    object \n",
      " 24  lifespan           2329 non-null   object \n",
      " 25  eco_category       25000 non-null  object \n",
      " 26  features           24157 non-null  object \n",
      " 27  accessories        21187 non-null  object \n",
      " 28  indicative_price   0 non-null      float64\n",
      " 29  price              25000 non-null  float64\n",
      "dtypes: float64(13), int64(2), object(15)\n",
      "memory usage: 5.7+ MB\n"
     ]
    }
   ],
   "source": [
    "train_df.info()"
   ],
   "metadata": {
    "collapsed": false,
    "ExecuteTime": {
     "end_time": "2024-10-08T11:48:35.942193Z",
     "start_time": "2024-10-08T11:48:35.891653Z"
    }
   },
   "id": "b1db4a08a9575e94",
   "execution_count": 9
  },
  {
   "cell_type": "code",
   "outputs": [],
   "source": [
    "# Drop the columns with null values\n",
    "#Remove listing id since it is not useful\n",
    "columns_to_drop = ['listing_id','original_reg_date','opc_scheme','lifespan', 'indicative_price']"
   ],
   "metadata": {
    "collapsed": false
   },
   "id": "2a5a30a698cd02"
  },
  {
   "cell_type": "code",
   "outputs": [
    {
     "data": {
      "text/plain": "               Column     type  No of unique values  No of Null values  \\\n0          listing_id    int64                25000                  0   \n1               title   object                 7263                  0   \n2                make   object                   95               1316   \n3               model   object                  799                  0   \n4         description   object                19765                680   \n5        manufactured  float64                   71                  7   \n6   original_reg_date   object                  219              24745   \n7            reg_date   object                 4705                  0   \n8     type_of_vehicle   object                   11                  0   \n9            category   object                  245                  0   \n10       transmission   object                    2                  0   \n11        curb_weight  float64                  973                307   \n12              power  float64                  311               2640   \n13          fuel_type   object                    5              19121   \n14         engine_cap  float64                  380                596   \n15       no_of_owners  float64                    6                 18   \n16       depreciation  float64                 3937                507   \n17                coe    int64                 2605                  0   \n18           road_tax  float64                  609               2632   \n19        dereg_value  float64                18742                220   \n20            mileage  float64                 6449               5304   \n21                omv  float64                14398                 64   \n22                arf  float64                14397                174   \n23         opc_scheme   object                    3              24838   \n24           lifespan   object                 1482              22671   \n25       eco_category   object                    1                  0   \n26           features   object                16769                843   \n27        accessories   object                16939               3813   \n28   indicative_price  float64                    0              25000   \n29              price  float64                 3427                  0   \n\n                                        Unique values  \n0   [1292132, 1294696, 1311717, 1310068, 1325280, ...  \n1   [Land Rover Range Rover Velar 3.0A Si6 R-Dynam...  \n2   [land rover, mercedes-benz, honda, toyota, lex...  \n3   [range, c200, odyssey, altis, gs, s2000, hurac...  \n4   [1 owner, no repairs needed! it looks great, i...  \n5   [2018.0, 2017.0, 2007.0, 2008.0, 2006.0, 2022....  \n6   [nan, 01-jan-1981, 23-jun-2020, 30-sep-2014, 3...  \n7   [08-mar-2018, 28-dec-2017, 19-sep-2007, 15-dec...  \n8   [suv, luxury sedan, mpv, mid-sized sedan, spor...  \n9   [parf car, parf car, premium ad car, coe car, ...  \n10                                     [auto, manual]  \n11  [1884.0, 1465.0, 1648.0, 1195.0, 1660.0, 1270....  \n12  [280.0, 135.0, 118.0, 80.0, 183.0, 177.0, 470....  \n13  [nan, diesel, petrol-electric, electric, petro...  \n14  [2995.0, 1991.0, 2354.0, 1598.0, 1997.0, 5204....  \n15                [2.0, 3.0, 6.0, 1.0, 4.0, 5.0, nan]  \n16  [34270.0, 21170.0, 12520.0, 10140.0, 13690.0, ...  \n17  [48011, 47002, 50355, 27571, 48479, 32121, 870...  \n18  [2380.0, 1202.0, 2442.0, 1113.0, 3570.0, 1815....  \n19  [103323.0, 45179.0, 16003.0, 12184.0, 9138.0, ...  \n20  [96000.0, 85680.0, 138000.0, 160000.0, 183000....  \n21  [88906.0, 40678.0, 27994.0, 16084.0, 50414.0, ...  \n22  [132031.0, 43950.0, 30794.0, 16084.0, 55456.0,...  \n23  [nan, revised opc scheme . learn more about op...  \n24  [nan, 30-may-2039, 11-aug-2031, 09-oct-2032, 1...  \n25                                    [uncategorized]  \n26  [3l supercharged v6 p380 engine at 375bhp/450n...  \n27  [2 x massage/memory/cooling & warmer seat, rea...  \n28                                              [nan]  \n29  [193788.0, 96800.0, 39800.0, 44800.0, 25800.0,...  ",
      "text/html": "<div>\n<style scoped>\n    .dataframe tbody tr th:only-of-type {\n        vertical-align: middle;\n    }\n\n    .dataframe tbody tr th {\n        vertical-align: top;\n    }\n\n    .dataframe thead th {\n        text-align: right;\n    }\n</style>\n<table border=\"1\" class=\"dataframe\">\n  <thead>\n    <tr style=\"text-align: right;\">\n      <th></th>\n      <th>Column</th>\n      <th>type</th>\n      <th>No of unique values</th>\n      <th>No of Null values</th>\n      <th>Unique values</th>\n    </tr>\n  </thead>\n  <tbody>\n    <tr>\n      <th>0</th>\n      <td>listing_id</td>\n      <td>int64</td>\n      <td>25000</td>\n      <td>0</td>\n      <td>[1292132, 1294696, 1311717, 1310068, 1325280, ...</td>\n    </tr>\n    <tr>\n      <th>1</th>\n      <td>title</td>\n      <td>object</td>\n      <td>7263</td>\n      <td>0</td>\n      <td>[Land Rover Range Rover Velar 3.0A Si6 R-Dynam...</td>\n    </tr>\n    <tr>\n      <th>2</th>\n      <td>make</td>\n      <td>object</td>\n      <td>95</td>\n      <td>1316</td>\n      <td>[land rover, mercedes-benz, honda, toyota, lex...</td>\n    </tr>\n    <tr>\n      <th>3</th>\n      <td>model</td>\n      <td>object</td>\n      <td>799</td>\n      <td>0</td>\n      <td>[range, c200, odyssey, altis, gs, s2000, hurac...</td>\n    </tr>\n    <tr>\n      <th>4</th>\n      <td>description</td>\n      <td>object</td>\n      <td>19765</td>\n      <td>680</td>\n      <td>[1 owner, no repairs needed! it looks great, i...</td>\n    </tr>\n    <tr>\n      <th>5</th>\n      <td>manufactured</td>\n      <td>float64</td>\n      <td>71</td>\n      <td>7</td>\n      <td>[2018.0, 2017.0, 2007.0, 2008.0, 2006.0, 2022....</td>\n    </tr>\n    <tr>\n      <th>6</th>\n      <td>original_reg_date</td>\n      <td>object</td>\n      <td>219</td>\n      <td>24745</td>\n      <td>[nan, 01-jan-1981, 23-jun-2020, 30-sep-2014, 3...</td>\n    </tr>\n    <tr>\n      <th>7</th>\n      <td>reg_date</td>\n      <td>object</td>\n      <td>4705</td>\n      <td>0</td>\n      <td>[08-mar-2018, 28-dec-2017, 19-sep-2007, 15-dec...</td>\n    </tr>\n    <tr>\n      <th>8</th>\n      <td>type_of_vehicle</td>\n      <td>object</td>\n      <td>11</td>\n      <td>0</td>\n      <td>[suv, luxury sedan, mpv, mid-sized sedan, spor...</td>\n    </tr>\n    <tr>\n      <th>9</th>\n      <td>category</td>\n      <td>object</td>\n      <td>245</td>\n      <td>0</td>\n      <td>[parf car, parf car, premium ad car, coe car, ...</td>\n    </tr>\n    <tr>\n      <th>10</th>\n      <td>transmission</td>\n      <td>object</td>\n      <td>2</td>\n      <td>0</td>\n      <td>[auto, manual]</td>\n    </tr>\n    <tr>\n      <th>11</th>\n      <td>curb_weight</td>\n      <td>float64</td>\n      <td>973</td>\n      <td>307</td>\n      <td>[1884.0, 1465.0, 1648.0, 1195.0, 1660.0, 1270....</td>\n    </tr>\n    <tr>\n      <th>12</th>\n      <td>power</td>\n      <td>float64</td>\n      <td>311</td>\n      <td>2640</td>\n      <td>[280.0, 135.0, 118.0, 80.0, 183.0, 177.0, 470....</td>\n    </tr>\n    <tr>\n      <th>13</th>\n      <td>fuel_type</td>\n      <td>object</td>\n      <td>5</td>\n      <td>19121</td>\n      <td>[nan, diesel, petrol-electric, electric, petro...</td>\n    </tr>\n    <tr>\n      <th>14</th>\n      <td>engine_cap</td>\n      <td>float64</td>\n      <td>380</td>\n      <td>596</td>\n      <td>[2995.0, 1991.0, 2354.0, 1598.0, 1997.0, 5204....</td>\n    </tr>\n    <tr>\n      <th>15</th>\n      <td>no_of_owners</td>\n      <td>float64</td>\n      <td>6</td>\n      <td>18</td>\n      <td>[2.0, 3.0, 6.0, 1.0, 4.0, 5.0, nan]</td>\n    </tr>\n    <tr>\n      <th>16</th>\n      <td>depreciation</td>\n      <td>float64</td>\n      <td>3937</td>\n      <td>507</td>\n      <td>[34270.0, 21170.0, 12520.0, 10140.0, 13690.0, ...</td>\n    </tr>\n    <tr>\n      <th>17</th>\n      <td>coe</td>\n      <td>int64</td>\n      <td>2605</td>\n      <td>0</td>\n      <td>[48011, 47002, 50355, 27571, 48479, 32121, 870...</td>\n    </tr>\n    <tr>\n      <th>18</th>\n      <td>road_tax</td>\n      <td>float64</td>\n      <td>609</td>\n      <td>2632</td>\n      <td>[2380.0, 1202.0, 2442.0, 1113.0, 3570.0, 1815....</td>\n    </tr>\n    <tr>\n      <th>19</th>\n      <td>dereg_value</td>\n      <td>float64</td>\n      <td>18742</td>\n      <td>220</td>\n      <td>[103323.0, 45179.0, 16003.0, 12184.0, 9138.0, ...</td>\n    </tr>\n    <tr>\n      <th>20</th>\n      <td>mileage</td>\n      <td>float64</td>\n      <td>6449</td>\n      <td>5304</td>\n      <td>[96000.0, 85680.0, 138000.0, 160000.0, 183000....</td>\n    </tr>\n    <tr>\n      <th>21</th>\n      <td>omv</td>\n      <td>float64</td>\n      <td>14398</td>\n      <td>64</td>\n      <td>[88906.0, 40678.0, 27994.0, 16084.0, 50414.0, ...</td>\n    </tr>\n    <tr>\n      <th>22</th>\n      <td>arf</td>\n      <td>float64</td>\n      <td>14397</td>\n      <td>174</td>\n      <td>[132031.0, 43950.0, 30794.0, 16084.0, 55456.0,...</td>\n    </tr>\n    <tr>\n      <th>23</th>\n      <td>opc_scheme</td>\n      <td>object</td>\n      <td>3</td>\n      <td>24838</td>\n      <td>[nan, revised opc scheme . learn more about op...</td>\n    </tr>\n    <tr>\n      <th>24</th>\n      <td>lifespan</td>\n      <td>object</td>\n      <td>1482</td>\n      <td>22671</td>\n      <td>[nan, 30-may-2039, 11-aug-2031, 09-oct-2032, 1...</td>\n    </tr>\n    <tr>\n      <th>25</th>\n      <td>eco_category</td>\n      <td>object</td>\n      <td>1</td>\n      <td>0</td>\n      <td>[uncategorized]</td>\n    </tr>\n    <tr>\n      <th>26</th>\n      <td>features</td>\n      <td>object</td>\n      <td>16769</td>\n      <td>843</td>\n      <td>[3l supercharged v6 p380 engine at 375bhp/450n...</td>\n    </tr>\n    <tr>\n      <th>27</th>\n      <td>accessories</td>\n      <td>object</td>\n      <td>16939</td>\n      <td>3813</td>\n      <td>[2 x massage/memory/cooling &amp; warmer seat, rea...</td>\n    </tr>\n    <tr>\n      <th>28</th>\n      <td>indicative_price</td>\n      <td>float64</td>\n      <td>0</td>\n      <td>25000</td>\n      <td>[nan]</td>\n    </tr>\n    <tr>\n      <th>29</th>\n      <td>price</td>\n      <td>float64</td>\n      <td>3427</td>\n      <td>0</td>\n      <td>[193788.0, 96800.0, 39800.0, 44800.0, 25800.0,...</td>\n    </tr>\n  </tbody>\n</table>\n</div>"
     },
     "execution_count": 17,
     "metadata": {},
     "output_type": "execute_result"
    }
   ],
   "source": [
    "#create a new df wit a table of unique values including each column, including no of unique values and the unique values in a list to another column\n",
    "def unique_values(df):\n",
    "    unique_values = []\n",
    "    for column in df.columns:\n",
    "        unique_values.append([column,df[column].dtype ,df[column].nunique(), df[column].isna().sum() ,df[column].unique()])\n",
    "    return pd.DataFrame(unique_values, columns=['Column','type', 'No of unique values', 'No of Null values','Unique values'])\n",
    "\n",
    "unique_val_df = unique_values(train_df)\n",
    "unique_val_df\n"
   ],
   "metadata": {
    "collapsed": false,
    "ExecuteTime": {
     "end_time": "2024-10-08T12:10:02.873567Z",
     "start_time": "2024-10-08T12:10:02.697034Z"
    }
   },
   "id": "bafbb22b3e21b8d3",
   "execution_count": 17
  },
  {
   "cell_type": "code",
   "outputs": [],
   "source": [],
   "metadata": {
    "collapsed": false
   },
   "id": "358ce73a9dc7d065"
  },
  {
   "cell_type": "code",
   "outputs": [],
   "source": [
    "selected_features = ['make', 'model', 'manufactured', 'mileage', 'power','engine_cap', 'depreciation','road_tax','dereg_value','coe', 'omv', 'arf','price' ]"
   ],
   "metadata": {
    "collapsed": false,
    "ExecuteTime": {
     "end_time": "2024-10-08T12:14:02.196196Z",
     "start_time": "2024-10-08T12:14:02.169965Z"
    }
   },
   "id": "41cd324a890c197",
   "execution_count": 18
  },
  {
   "cell_type": "code",
   "outputs": [
    {
     "data": {
      "text/plain": "['manufactured',\n 'mileage',\n 'power',\n 'engine_cap',\n 'depreciation',\n 'road_tax',\n 'dereg_value',\n 'coe',\n 'omv',\n 'arf',\n 'price']"
     },
     "execution_count": 20,
     "metadata": {},
     "output_type": "execute_result"
    }
   ],
   "source": [
    "# get the numerical columns\n",
    "numerical_columns = train_df[selected_features].select_dtypes(include=['int64','float64']).columns.tolist()\n",
    "numerical_columns"
   ],
   "metadata": {
    "collapsed": false,
    "ExecuteTime": {
     "end_time": "2024-10-08T12:18:06.777686Z",
     "start_time": "2024-10-08T12:18:06.730327Z"
    }
   },
   "id": "19b95c45d5ed7faf",
   "execution_count": 20
  },
  {
   "cell_type": "code",
   "outputs": [],
   "source": [
    "model_to_make_mapping = train_df.dropna(subset=['make']).set_index('model')['make'].str.lower().to_dict()\n",
    "\n",
    "def derive_make_from_model(row):\n",
    "    if pd.isnull(row['make']):\n",
    "        return model_to_make_mapping.get(row['model'].lower(), None)\n",
    "    else:\n",
    "        return row['make']\n",
    "\n",
    "train_df['make'] = train_df.apply(derive_make_from_model, axis=1)\n"
   ],
   "metadata": {
    "collapsed": false,
    "ExecuteTime": {
     "end_time": "2024-10-08T12:25:57.323842Z",
     "start_time": "2024-10-08T12:25:57.120473Z"
    }
   },
   "id": "b5c68a574f80a815",
   "execution_count": 21
  },
  {
   "cell_type": "code",
   "outputs": [],
   "source": [
    "# manufactured column null values, group by model and get the mode of the manufactured year\n",
    "train_df['manufactured'] = train_df.groupby('model')['manufactured'].transform(lambda x: x.fillna(x.mode()[0]))"
   ],
   "metadata": {
    "collapsed": false,
    "ExecuteTime": {
     "end_time": "2024-10-08T12:30:00.301316Z",
     "start_time": "2024-10-08T12:30:00.186966Z"
    }
   },
   "id": "d9fcc09b77252433",
   "execution_count": 25
  },
  {
   "cell_type": "code",
   "outputs": [],
   "source": [
    "# power column null values, group by model and get the mode of the power\n",
    "overall_median_power = train_df['power'].median()\n",
    "train_df['power'] = train_df.groupby('model')['power'].transform(\n",
    "    lambda x: x.fillna(x.mode().iloc[0] if not x.mode().empty else overall_median_power)\n",
    ")"
   ],
   "metadata": {
    "collapsed": false,
    "ExecuteTime": {
     "end_time": "2024-10-08T12:36:09.901204Z",
     "start_time": "2024-10-08T12:36:09.698747Z"
    }
   },
   "id": "89d0fefbdd4b4c32",
   "execution_count": 29
  },
  {
   "cell_type": "code",
   "outputs": [],
   "source": [
    "# mileage column null values, group by model and get the mean of the mileage\n",
    "overall_median_mileage = train_df['mileage'].median()\n",
    "train_df['mileage'] = train_df.groupby('model')['mileage'].transform(\n",
    "    lambda x: x.fillna(x.mean() if not x.mode().empty else overall_median_mileage)\n",
    ")"
   ],
   "metadata": {
    "collapsed": false,
    "ExecuteTime": {
     "end_time": "2024-10-08T12:38:57.888250Z",
     "start_time": "2024-10-08T12:38:57.776247Z"
    }
   },
   "id": "ad52d44f32f94389",
   "execution_count": 35
  },
  {
   "cell_type": "code",
   "outputs": [],
   "source": [
    "# engine_cap column null values, group by model and get the mode of the engine_cap\n",
    "overall_median_engine_cap = train_df['engine_cap'].median()\n",
    "train_df['engine_cap'] = train_df.groupby('model')['engine_cap'].transform(\n",
    "    lambda x: x.fillna(x.mode().iloc[0] if not x.mode().empty else overall_median_engine_cap)\n",
    ")"
   ],
   "metadata": {
    "collapsed": false,
    "ExecuteTime": {
     "end_time": "2024-10-08T12:37:48.469728Z",
     "start_time": "2024-10-08T12:37:48.365133Z"
    }
   },
   "id": "d4451b1d69592d57",
   "execution_count": 33
  },
  {
   "cell_type": "code",
   "outputs": [],
   "source": [
    "# depreciation column null values, group by model and get the mean of the depreciation\n",
    "overall_median_dep = train_df['depreciation'].median()\n",
    "train_df['depreciation'] = train_df.groupby('model')['depreciation'].transform(\n",
    "    lambda x: x.fillna(x.mean() if not x.mode().empty else overall_median_dep)\n",
    ")"
   ],
   "metadata": {
    "collapsed": false,
    "ExecuteTime": {
     "end_time": "2024-10-08T12:39:51.487074Z",
     "start_time": "2024-10-08T12:39:51.397671Z"
    }
   },
   "id": "823419f4e45184b4",
   "execution_count": 39
  },
  {
   "cell_type": "code",
   "outputs": [],
   "source": [
    "# road_tax column null values, group by model and get the mean of the road_tax\n",
    "overall_road_tax = train_df['road_tax'].mean()\n",
    "train_df['road_tax'] = train_df.groupby('model')['road_tax'].transform(\n",
    "    lambda x: x.fillna(x.mean() if not x.mode().empty else overall_road_tax)\n",
    ")"
   ],
   "metadata": {
    "collapsed": false,
    "ExecuteTime": {
     "end_time": "2024-10-08T12:40:57.404356Z",
     "start_time": "2024-10-08T12:40:57.313831Z"
    }
   },
   "id": "41d58f7e37602d21",
   "execution_count": 42
  },
  {
   "cell_type": "code",
   "outputs": [],
   "source": [
    "# dereg_value column null values, group by model and get the mean of the dereg_value\n",
    "overall_dereg_value = train_df['dereg_value'].mean()\n",
    "train_df['dereg_value'] = train_df.groupby('model')['dereg_value'].transform(\n",
    "    lambda x: x.fillna(x.mean() if not x.mode().empty else overall_dereg_value)\n",
    ")"
   ],
   "metadata": {
    "collapsed": false,
    "ExecuteTime": {
     "end_time": "2024-10-08T12:42:06.688055Z",
     "start_time": "2024-10-08T12:42:06.571659Z"
    }
   },
   "id": "baa813eee80ba2fb",
   "execution_count": 43
  },
  {
   "cell_type": "code",
   "outputs": [],
   "source": [
    "# coe column null values, group by model and get the mean of the coe\n",
    "overall_coe = train_df['coe'].mean()\n",
    "train_df['coe'] = train_df.groupby('model')['coe'].transform(\n",
    "    lambda x: x.fillna(x.mean() if not x.mode().empty else overall_coe)\n",
    ")"
   ],
   "metadata": {
    "collapsed": false,
    "ExecuteTime": {
     "end_time": "2024-10-08T12:42:08.272649Z",
     "start_time": "2024-10-08T12:42:08.186934Z"
    }
   },
   "id": "ef2f22ca288c6214",
   "execution_count": 44
  },
  {
   "cell_type": "code",
   "outputs": [],
   "source": [
    "# omv column null values, group by model and get the mean of the omv\n",
    "overall_omv = train_df['omv'].mean()\n",
    "train_df['omv'] = train_df.groupby('model')['omv'].transform(\n",
    "    lambda x: x.fillna(x.mean() if not x.mode().empty else overall_omv)\n",
    ")"
   ],
   "metadata": {
    "collapsed": false,
    "ExecuteTime": {
     "end_time": "2024-10-08T12:42:08.999321Z",
     "start_time": "2024-10-08T12:42:08.915774Z"
    }
   },
   "id": "359aafbdd7dca23d",
   "execution_count": 45
  },
  {
   "cell_type": "code",
   "outputs": [],
   "source": [
    "# arf column null values, group by model and get the mean of the arf\n",
    "overall_arf = train_df['arf'].mean()\n",
    "train_df['arf'] = train_df.groupby('model')['arf'].transform(\n",
    "    lambda x: x.fillna(x.mean() if not x.mode().empty else overall_arf)\n",
    ")"
   ],
   "metadata": {
    "collapsed": false,
    "ExecuteTime": {
     "end_time": "2024-10-08T12:42:09.686886Z",
     "start_time": "2024-10-08T12:42:09.489559Z"
    }
   },
   "id": "3147efcf2b12028",
   "execution_count": 46
  },
  {
   "cell_type": "code",
   "outputs": [
    {
     "data": {
      "text/plain": "0"
     },
     "execution_count": 22,
     "metadata": {},
     "output_type": "execute_result"
    }
   ],
   "source": [
    "train_df['make'].isnull().sum()"
   ],
   "metadata": {
    "collapsed": false,
    "ExecuteTime": {
     "end_time": "2024-10-08T12:26:04.512854Z",
     "start_time": "2024-10-08T12:26:04.497774Z"
    }
   },
   "id": "3d028c81624afee8",
   "execution_count": 22
  },
  {
   "cell_type": "code",
   "outputs": [
    {
     "data": {
      "text/plain": "          Column     type  No of unique values  No of Null values  \\\n0           make   object                   95                  0   \n1          model   object                  799                  0   \n2   manufactured  float64                   71                  0   \n3        mileage  float64                 6827                  0   \n4          power  float64                  311                  0   \n5     engine_cap  float64                  380                  0   \n6   depreciation  float64                 4099                  0   \n7       road_tax  float64                  658                  0   \n8    dereg_value  float64                18850                  0   \n9            coe    int64                 2605                  0   \n10           omv  float64                14409                  0   \n11           arf  float64                14428                  0   \n12         price  float64                 3427                  0   \n\n                                        Unique values  \n0   [land rover, mercedes-benz, honda, toyota, lex...  \n1   [range, c200, odyssey, altis, gs, s2000, hurac...  \n2   [2018.0, 2017.0, 2007.0, 2008.0, 2006.0, 2022....  \n3   [96000.0, 85680.0, 138000.0, 160000.0, 183000....  \n4   [280.0, 135.0, 118.0, 80.0, 183.0, 177.0, 470....  \n5   [2995.0, 1991.0, 2354.0, 1598.0, 1997.0, 5204....  \n6   [34270.0, 21170.0, 12520.0, 10140.0, 13690.0, ...  \n7   [2380.0, 1202.0, 2442.0, 1113.0, 3570.0, 1815....  \n8   [103323.0, 45179.0, 16003.0, 12184.0, 9138.0, ...  \n9   [48011, 47002, 50355, 27571, 48479, 32121, 870...  \n10  [88906.0, 40678.0, 27994.0, 16084.0, 50414.0, ...  \n11  [132031.0, 43950.0, 30794.0, 16084.0, 55456.0,...  \n12  [193788.0, 96800.0, 39800.0, 44800.0, 25800.0,...  ",
      "text/html": "<div>\n<style scoped>\n    .dataframe tbody tr th:only-of-type {\n        vertical-align: middle;\n    }\n\n    .dataframe tbody tr th {\n        vertical-align: top;\n    }\n\n    .dataframe thead th {\n        text-align: right;\n    }\n</style>\n<table border=\"1\" class=\"dataframe\">\n  <thead>\n    <tr style=\"text-align: right;\">\n      <th></th>\n      <th>Column</th>\n      <th>type</th>\n      <th>No of unique values</th>\n      <th>No of Null values</th>\n      <th>Unique values</th>\n    </tr>\n  </thead>\n  <tbody>\n    <tr>\n      <th>0</th>\n      <td>make</td>\n      <td>object</td>\n      <td>95</td>\n      <td>0</td>\n      <td>[land rover, mercedes-benz, honda, toyota, lex...</td>\n    </tr>\n    <tr>\n      <th>1</th>\n      <td>model</td>\n      <td>object</td>\n      <td>799</td>\n      <td>0</td>\n      <td>[range, c200, odyssey, altis, gs, s2000, hurac...</td>\n    </tr>\n    <tr>\n      <th>2</th>\n      <td>manufactured</td>\n      <td>float64</td>\n      <td>71</td>\n      <td>0</td>\n      <td>[2018.0, 2017.0, 2007.0, 2008.0, 2006.0, 2022....</td>\n    </tr>\n    <tr>\n      <th>3</th>\n      <td>mileage</td>\n      <td>float64</td>\n      <td>6827</td>\n      <td>0</td>\n      <td>[96000.0, 85680.0, 138000.0, 160000.0, 183000....</td>\n    </tr>\n    <tr>\n      <th>4</th>\n      <td>power</td>\n      <td>float64</td>\n      <td>311</td>\n      <td>0</td>\n      <td>[280.0, 135.0, 118.0, 80.0, 183.0, 177.0, 470....</td>\n    </tr>\n    <tr>\n      <th>5</th>\n      <td>engine_cap</td>\n      <td>float64</td>\n      <td>380</td>\n      <td>0</td>\n      <td>[2995.0, 1991.0, 2354.0, 1598.0, 1997.0, 5204....</td>\n    </tr>\n    <tr>\n      <th>6</th>\n      <td>depreciation</td>\n      <td>float64</td>\n      <td>4099</td>\n      <td>0</td>\n      <td>[34270.0, 21170.0, 12520.0, 10140.0, 13690.0, ...</td>\n    </tr>\n    <tr>\n      <th>7</th>\n      <td>road_tax</td>\n      <td>float64</td>\n      <td>658</td>\n      <td>0</td>\n      <td>[2380.0, 1202.0, 2442.0, 1113.0, 3570.0, 1815....</td>\n    </tr>\n    <tr>\n      <th>8</th>\n      <td>dereg_value</td>\n      <td>float64</td>\n      <td>18850</td>\n      <td>0</td>\n      <td>[103323.0, 45179.0, 16003.0, 12184.0, 9138.0, ...</td>\n    </tr>\n    <tr>\n      <th>9</th>\n      <td>coe</td>\n      <td>int64</td>\n      <td>2605</td>\n      <td>0</td>\n      <td>[48011, 47002, 50355, 27571, 48479, 32121, 870...</td>\n    </tr>\n    <tr>\n      <th>10</th>\n      <td>omv</td>\n      <td>float64</td>\n      <td>14409</td>\n      <td>0</td>\n      <td>[88906.0, 40678.0, 27994.0, 16084.0, 50414.0, ...</td>\n    </tr>\n    <tr>\n      <th>11</th>\n      <td>arf</td>\n      <td>float64</td>\n      <td>14428</td>\n      <td>0</td>\n      <td>[132031.0, 43950.0, 30794.0, 16084.0, 55456.0,...</td>\n    </tr>\n    <tr>\n      <th>12</th>\n      <td>price</td>\n      <td>float64</td>\n      <td>3427</td>\n      <td>0</td>\n      <td>[193788.0, 96800.0, 39800.0, 44800.0, 25800.0,...</td>\n    </tr>\n  </tbody>\n</table>\n</div>"
     },
     "execution_count": 47,
     "metadata": {},
     "output_type": "execute_result"
    }
   ],
   "source": [
    "# print the unique value df value for selected features\n",
    "unique_values(train_df[selected_features])"
   ],
   "metadata": {
    "collapsed": false,
    "ExecuteTime": {
     "end_time": "2024-10-08T12:42:13.778321Z",
     "start_time": "2024-10-08T12:42:13.745513Z"
    }
   },
   "id": "abb5c39740e68cda",
   "execution_count": 47
  },
  {
   "cell_type": "code",
   "outputs": [],
   "source": [
    "import pandas as pd\n",
    "from sklearn.model_selection import train_test_split\n",
    "from sklearn.impute import SimpleImputer\n",
    "from sklearn.preprocessing import OneHotEncoder, StandardScaler\n",
    "from sklearn.ensemble import RandomForestRegressor\n",
    "from sklearn.compose import ColumnTransformer\n",
    "from sklearn.pipeline import Pipeline\n",
    "from sklearn.metrics import mean_absolute_error, mean_squared_error, r2_score\n",
    "\n",
    "\n",
    "# Step 1: Select relevant features and the target variable\n",
    "features = selected_features\n",
    "target = 'price'\n",
    "\n",
    "train_df = train_df.dropna(subset=[target])\n",
    "\n",
    "X_train = train_df[features]\n",
    "y_train = train_df[target]\n",
    "\n",
    "numerical_features = numerical_columns\n",
    "categorical_features = ['make', 'model']\n",
    "\n",
    "# Step 3: Create preprocessing pipelines for both numeric and categorical features\n",
    "numerical_transformer = Pipeline(steps=[\n",
    "    ('imputer', SimpleImputer(strategy='mean')),\n",
    "    ('scaler', StandardScaler())\n",
    "])\n",
    "\n",
    "categorical_transformer = Pipeline(steps=[\n",
    "    ('imputer', SimpleImputer(strategy='most_frequent')),\n",
    "    ('onehot', OneHotEncoder(handle_unknown='ignore'))\n",
    "])\n",
    "\n",
    "# Step 4: Combine preprocessing steps into a column transformer\n",
    "preprocessor = ColumnTransformer(\n",
    "    transformers=[\n",
    "        ('num', numerical_transformer, numerical_features),\n",
    "        ('cat', categorical_transformer, categorical_features)\n",
    "    ]\n",
    ")\n",
    "\n",
    "# Step 5: Create a pipeline that first preprocesses the data and then applies the Random Forest Regressor model\n",
    "model_pipeline = Pipeline(steps=[\n",
    "    ('preprocessor', preprocessor),\n",
    "    ('model', RandomForestRegressor(n_estimators=100, random_state=42))\n",
    "])\n",
    "\n",
    "# Step 6: Split the data into training and testing sets\n",
    "X_train, X_test, y_train, y_test = train_test_split(X, y, test_size=0.2, random_state=42)\n",
    "\n",
    "# Step 7: Fit the model pipeline to the training data\n",
    "model_pipeline.fit(X_train, y_train)\n",
    "\n",
    "# Step 8: Make predictions on the test set\n",
    "y_pred = model_pipeline.predict(X_test)\n",
    "\n",
    "# Step 9: Evaluate the model's performance\n",
    "mae = mean_absolute_error(y_test, y_pred)\n",
    "mse = mean_squared_error(y_test, y_pred)\n",
    "rmse = mean_squared_error(y_test, y_pred, squared=False)\n",
    "r2 = r2_score(y_test, y_pred)\n",
    "\n",
    "# Print the evaluation metrics\n",
    "print(f'Mean Absolute Error (MAE): {mae:.2f}')\n",
    "print(f'Mean Squared Error (MSE): {mse:.2f}')\n",
    "print(f'Root Mean Squared Error (RMSE): {rmse:.2f}')\n",
    "print(f'R-squared (R2): {r2:.2f}')\n"
   ],
   "metadata": {
    "collapsed": false
   },
   "id": "9ed34a94bd1ec35c"
  }
 ],
 "metadata": {
  "kernelspec": {
   "display_name": "Python 3",
   "language": "python",
   "name": "python3"
  },
  "language_info": {
   "codemirror_mode": {
    "name": "ipython",
    "version": 2
   },
   "file_extension": ".py",
   "mimetype": "text/x-python",
   "name": "python",
   "nbconvert_exporter": "python",
   "pygments_lexer": "ipython2",
   "version": "2.7.6"
  }
 },
 "nbformat": 4,
 "nbformat_minor": 5
}
